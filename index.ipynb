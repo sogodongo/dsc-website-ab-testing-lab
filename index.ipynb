{
 "cells": [
  {
   "cell_type": "markdown",
   "metadata": {},
   "source": [
    "# Website A/B Testing - Lab\n",
    "\n",
    "## Introduction\n",
    "\n",
    "In this lab, you'll get another chance to practice your skills at conducting a full A/B test analysis. It will also be a chance to practice your data exploration and processing skills! The scenario you'll be investigating is data collected from the homepage of a music app page for audacity.\n",
    "\n",
    "## Objectives\n",
    "\n",
    "You will be able to:\n",
    "* Analyze the data from a website A/B test to draw relevant conclusions\n",
    "* Explore and analyze web action data"
   ]
  },
  {
   "cell_type": "markdown",
   "metadata": {},
   "source": [
    "## Exploratory Analysis\n",
    "\n",
    "Start by loading in the dataset stored in the file 'homepage_actions.csv'. Then conduct an exploratory analysis to get familiar with the data."
   ]
  },
  {
   "cell_type": "markdown",
   "metadata": {},
   "source": [
    "> Hints:\n",
    "    * Start investigating the id column:\n",
    "        * How many viewers also clicked?\n",
    "        * Are there any anomalies with the data; did anyone click who didn't view?\n",
    "        * Is there any overlap between the control and experiment groups? \n",
    "            * If so, how do you plan to account for this in your experimental design?"
   ]
  },
  {
   "cell_type": "code",
   "execution_count": 1,
   "metadata": {},
   "outputs": [],
   "source": [
    "import pandas as pd\n",
    "\n",
    "df = pd.read_csv('homepage_actions.csv')\n"
   ]
  },
  {
   "cell_type": "code",
   "execution_count": 9,
   "metadata": {
    "scrolled": true
   },
   "outputs": [
    {
     "name": "stdout",
     "output_type": "stream",
     "text": [
      "                     timestamp      id       group action\n",
      "0   2016-09-24 17:42:27.839496  804196  experiment   view\n",
      "1   2016-09-24 19:19:03.542569  434745  experiment   view\n",
      "2   2016-09-24 19:36:00.944135  507599  experiment   view\n",
      "3   2016-09-24 19:59:02.646620  671993     control   view\n",
      "4   2016-09-24 20:26:14.466886  536734  experiment   view\n",
      "5   2016-09-24 20:32:25.712659  681598  experiment   view\n",
      "6   2016-09-24 20:39:03.248853  522116  experiment   view\n",
      "7   2016-09-24 20:57:20.336757  349125  experiment   view\n",
      "8   2016-09-24 20:58:01.948663  349125  experiment  click\n",
      "9   2016-09-24 21:00:12.278374  560027     control   view\n",
      "10  2016-09-24 21:00:41.351487  265695  experiment   view\n",
      "11  2016-09-24 21:05:15.348935  601714  experiment   view\n",
      "12  2016-09-24 21:06:27.553057  601714  experiment  click\n",
      "13  2016-09-24 21:09:09.046127  416862  experiment   view\n",
      "14  2016-09-24 21:29:19.766467  487634  experiment   view\n",
      "15  2016-09-24 21:30:02.739756  487634  experiment  click\n",
      "16  2016-09-24 23:01:08.713402  468601  experiment   view\n",
      "17  2016-09-24 23:01:12.108316  468601  experiment  click\n",
      "18  2016-09-24 23:08:35.540897  293251  experiment   view\n",
      "19  2016-09-24 23:50:31.623841  515303  experiment   view\n",
      "(8188, 4)\n",
      "timestamp    object\n",
      "id            int64\n",
      "group        object\n",
      "action       object\n",
      "dtype: object\n",
      "timestamp    0\n",
      "id           0\n",
      "group        0\n",
      "action       0\n",
      "dtype: int64\n",
      "                  id\n",
      "count    8188.000000\n",
      "mean   564699.749878\n",
      "std    219085.845672\n",
      "min    182988.000000\n",
      "25%    373637.500000\n",
      "50%    566840.500000\n",
      "75%    758078.000000\n",
      "max    937217.000000\n"
     ]
    }
   ],
   "source": [
    "# Display the first few rows of the dataset\n",
    "print(df.head(20))\n",
    "\n",
    "# Check the dimensions of the dataset (number of rows and columns)\n",
    "print(df.shape)\n",
    "\n",
    "# Check the data types of each column\n",
    "print(df.dtypes)\n",
    "\n",
    "# Check for missing values\n",
    "print(df.isnull().sum())\n",
    "\n",
    "# Check summary statistics of numerical columns\n",
    "print(df.describe())\n"
   ]
  },
  {
   "cell_type": "code",
   "execution_count": 4,
   "metadata": {},
   "outputs": [
    {
     "name": "stdout",
     "output_type": "stream",
     "text": [
      "Number of viewers: 6328\n",
      "Number of clickers: 1860\n",
      "Number of anomalies (click without view): 1860\n"
     ]
    }
   ],
   "source": [
    "#Investigate the 'id' column: Analyze the 'id' column to understand the relationship between viewers and clickers.\n",
    "\n",
    "\n",
    "# Check the number of viewers and clickers\n",
    "viewers = df['id'].nunique()\n",
    "clickers = df[df['action'] == 'click']['id'].nunique()\n",
    "print(\"Number of viewers:\", viewers)\n",
    "print(\"Number of clickers:\", clickers)\n",
    "\n",
    "# Check for any anomalies where someone clicked without viewing (if applicable)\n",
    "anomalies = df[df['action'] == 'click']['id'].isin(df[df['action'] == 'view']['id']).sum()\n",
    "print(\"Number of anomalies (click without view):\", anomalies)\n"
   ]
  },
  {
   "cell_type": "code",
   "execution_count": 5,
   "metadata": {},
   "outputs": [
    {
     "name": "stdout",
     "output_type": "stream",
     "text": [
      "Number of overlapping users: 0\n"
     ]
    }
   ],
   "source": [
    "#Identify overlap between the control and experiment groups: Determine if there is any overlap between the control and experiment groups, and decide how to account for it in the experimental design.\n",
    "\n",
    "\n",
    "# Checking for overlap between control and experiment groups\n",
    "control_group = df[df['group'] == 'control']['id'].unique()\n",
    "experiment_group = df[df['group'] == 'experiment']['id'].unique()\n",
    "overlap = set(control_group).intersection(experiment_group)\n",
    "print(\"Number of overlapping users:\", len(overlap))\n"
   ]
  },
  {
   "cell_type": "markdown",
   "metadata": {},
   "source": [
    "## Conduct a Statistical Test\n",
    "\n",
    "Conduct a statistical test to determine whether the experimental homepage was more effective than that of the control group."
   ]
  },
  {
   "cell_type": "code",
   "execution_count": 10,
   "metadata": {},
   "outputs": [
    {
     "name": "stdout",
     "output_type": "stream",
     "text": [
      "The experimental homepage was more effective than the control group (statistically significant).\n",
      "p-value: 0.008830075576595804\n",
      "z-score: -2.618563885349469\n"
     ]
    }
   ],
   "source": [
    "import pandas as pd\n",
    "import numpy as np\n",
    "from statsmodels.stats.proportion import proportions_ztest\n",
    "\n",
    "# Load the dataset\n",
    "df = pd.read_csv('homepage_actions.csv')\n",
    "\n",
    "# Subset the data for the control and experiment groups\n",
    "control_group = df[df['group'] == 'control']\n",
    "experiment_group = df[df['group'] == 'experiment']\n",
    "\n",
    "# Count the number of conversions (clicks) and total observations (views) for each group\n",
    "control_conversions = control_group[control_group['action'] == 'click'].shape[0]\n",
    "control_total = control_group[control_group['action'] == 'view'].shape[0]\n",
    "\n",
    "experiment_conversions = experiment_group[experiment_group['action'] == 'click'].shape[0]\n",
    "experiment_total = experiment_group[experiment_group['action'] == 'view'].shape[0]\n",
    "\n",
    "# Perform the two-sample proportion z-test\n",
    "count = np.array([control_conversions, experiment_conversions])\n",
    "nobs = np.array([control_total, experiment_total])\n",
    "z_score, p_value = proportions_ztest(count, nobs)\n",
    "\n",
    "# Define the significance level (alpha)\n",
    "alpha = 0.05\n",
    "\n",
    "# Interpret the results\n",
    "if p_value < alpha:\n",
    "    print(\"The experimental homepage was more effective than the control group (statistically significant).\")\n",
    "else:\n",
    "    print(\"There is no significant difference between the experimental homepage and the control group.\")\n",
    "\n",
    "print(\"p-value:\", p_value)\n",
    "print(\"z-score:\", z_score)\n",
    "\n",
    "\n"
   ]
  },
  {
   "cell_type": "markdown",
   "metadata": {},
   "source": [
    "## Verifying Results\n",
    "\n",
    "One sensible formulation of the data to answer the hypothesis test above would be to create a binary variable representing each individual in the experiment and control group. This binary variable would represent whether or not that individual clicked on the homepage; 1 for they did and 0 if they did not. \n",
    "\n",
    "The variance for the number of successes in a sample of a binomial variable with n observations is given by:\n",
    "\n",
    "## $n\\bullet p (1-p)$\n",
    "\n",
    "Given this, perform 3 steps to verify the results of your statistical test:\n",
    "1. Calculate the expected number of clicks for the experiment group, if it had the same click-through rate as that of the control group. \n",
    "2. Calculate the number of standard deviations that the actual number of clicks was from this estimate. \n",
    "3. Finally, calculate a p-value using the normal distribution based on this z-score."
   ]
  },
  {
   "cell_type": "markdown",
   "metadata": {},
   "source": [
    "### Step 1:\n",
    "Calculate the expected number of clicks for the experiment group, if it had the same click-through rate as that of the control group. "
   ]
  },
  {
   "cell_type": "code",
   "execution_count": 11,
   "metadata": {},
   "outputs": [
    {
     "name": "stdout",
     "output_type": "stream",
     "text": [
      "Expected number of clicks for the experiment group: 838.0168067226891\n"
     ]
    }
   ],
   "source": [
    "# Calculating the click-through rate of the control group\n",
    "control_click_through_rate = control_conversions / control_total\n",
    "\n",
    "# Calculating the expected number of clicks for the experiment group\n",
    "expected_experiment_clicks = control_click_through_rate * experiment_total\n",
    "\n",
    "print(\"Expected number of clicks for the experiment group:\", expected_experiment_clicks)\n"
   ]
  },
  {
   "cell_type": "markdown",
   "metadata": {},
   "source": [
    "### Step 2:\n",
    "Calculate the number of standard deviations that the actual number of clicks was from this estimate."
   ]
  },
  {
   "cell_type": "code",
   "execution_count": 12,
   "metadata": {},
   "outputs": [
    {
     "name": "stdout",
     "output_type": "stream",
     "text": [
      "Number of standard deviations from the estimate: 3.6625360854823588\n"
     ]
    }
   ],
   "source": [
    "# Calculating the variance for the binomial distribution\n",
    "variance = experiment_total * control_click_through_rate * (1 - control_click_through_rate)\n",
    "\n",
    "# Calculating the standard deviation\n",
    "standard_deviation = np.sqrt(variance)\n",
    "\n",
    "# Calculating the number of standard deviations from the estimate\n",
    "z_score = (experiment_conversions - expected_experiment_clicks) / standard_deviation\n",
    "\n",
    "print(\"Number of standard deviations from the estimate:\", z_score)\n"
   ]
  },
  {
   "cell_type": "markdown",
   "metadata": {},
   "source": [
    "### Step 3: \n",
    "Finally, calculate a p-value using the normal distribution based on this z-score."
   ]
  },
  {
   "cell_type": "code",
   "execution_count": 15,
   "metadata": {},
   "outputs": [
    {
     "name": "stdout",
     "output_type": "stream",
     "text": [
      "p-value based on the normal distribution: 0.00012486528006949715\n"
     ]
    }
   ],
   "source": [
    "import numpy as np\n",
    "from scipy.stats import norm\n",
    "\n",
    "\n",
    "# Calculate the p-value\n",
    "p_value = 1 - norm.cdf(z_score)\n",
    "\n",
    "print(\"p-value based on the normal distribution:\", p_value)\n"
   ]
  },
  {
   "cell_type": "markdown",
   "metadata": {},
   "source": [
    "### Analysis:\n",
    "\n",
    "Does this result roughly match that of the previous statistical test?\n",
    "\n",
    "> Comment:\n",
    "\n",
    "The result obtained from the analysis using the expected number of clicks, standard deviations, and p-value calculation based on the normal distribution is consistent with the previous statistical test. The p-value obtained from the binomial analysis (p = 0.00012486528006949715) is very close to the p-value obtained from the t-test (p = 0.008830075576595804). Both p-values indicate statistical significance, suggesting that the experimental homepage was more effective than the control group.\n",
    "\n",
    "The number of standard deviations from the estimate (z-score) is also consistent, with a value of 3.6625360854823588. This indicates that the actual number of clicks in the experiment group is 3.66 standard deviations away from the expected number of clicks based on the control group's click-through rate.\n",
    "\n",
    "Therefore, the analysis using the binary variable formulation and the binomial approach verifies the results of the previous statistical test, providing further evidence that the experimental homepage was more effective in terms of click-through rate compared to the control group."
   ]
  },
  {
   "cell_type": "markdown",
   "metadata": {},
   "source": [
    "## Summary\n",
    "\n",
    "In this lab, you continued to get more practice designing and conducting AB tests. This required additional work preprocessing and formulating the initial problem in a suitable manner. Additionally, you also saw how to verify results, strengthening your knowledge of binomial variables, and reviewing initial statistical concepts of the central limit theorem, standard deviation, z-scores, and their accompanying p-values."
   ]
  }
 ],
 "metadata": {
  "kernelspec": {
   "display_name": "Python 3 (ipykernel)",
   "language": "python",
   "name": "python3"
  },
  "language_info": {
   "codemirror_mode": {
    "name": "ipython",
    "version": 3
   },
   "file_extension": ".py",
   "mimetype": "text/x-python",
   "name": "python",
   "nbconvert_exporter": "python",
   "pygments_lexer": "ipython3",
   "version": "3.10.11"
  }
 },
 "nbformat": 4,
 "nbformat_minor": 2
}
